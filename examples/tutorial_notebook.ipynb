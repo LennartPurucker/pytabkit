{
  "cells": [
    {
      "cell_type": "markdown",
      "metadata": {
        "id": "enZVuzCHCy1n"
      },
      "source": [
        "**To train neural networks faster, you need to enable GPUs for the notebook:**\n",
        "* Navigate to Edit→Notebook Settings\n",
        "* select GPU from the Hardware Accelerator drop-down"
      ]
    },
    {
      "cell_type": "markdown",
      "metadata": {
        "id": "rtKFT1oSCy1p"
      },
      "source": [
        "# Setup"
      ]
    },
    {
      "cell_type": "markdown",
      "metadata": {
        "id": "Sr0lfFYqCy1q"
      },
      "source": [
        "## Installation"
      ]
    },
    {
      "cell_type": "code",
      "execution_count": null,
      "metadata": {
        "id": "d-Zn1o8jCy1q"
      },
      "outputs": [],
      "source": [
        "!pip install pytabkit\n",
        "!pip install openml"
      ]
    },
    {
      "cell_type": "markdown",
      "metadata": {
        "id": "V1Qo43ciCy1r"
      },
      "source": [
        "## Getting a dataset"
      ]
    },
    {
      "cell_type": "code",
      "execution_count": null,
      "metadata": {
        "id": "o-MpREHMCy1r"
      },
      "outputs": [],
      "source": [
        "import openml\n",
        "from sklearn.model_selection import train_test_split\n",
        "\n",
        "task = openml.tasks.get_task(359946, download_splits=False) # pol dataset\n",
        "dataset = openml.datasets.get_dataset(task.dataset_id, download_data=False)\n",
        "X, y, categorical_indicator, attribute_names = dataset.get_data(\n",
        "    dataset_format='dataframe',\n",
        "    target=task.target_name\n",
        ")\n",
        "# X, _, y, _ = train_test_split(X, y, train_size=0.1, random_state=0)  # subsample data\n",
        "\n",
        "X_train, X_test, y_train, y_test = train_test_split(X, y, random_state=0)"
      ]
    },
    {
      "cell_type": "markdown",
      "metadata": {
        "id": "PeMtLz0ICy1s"
      },
      "source": [
        "# Using RealMLP"
      ]
    },
    {
      "cell_type": "code",
      "execution_count": 3,
      "metadata": {
        "id": "CgSOr3l0Cy1s",
        "outputId": "d2b0ea97-45ac-4a9e-ff3d-291d72094615",
        "colab": {
          "base_uri": "https://localhost:8080/"
        }
      },
      "outputs": [
        {
          "output_type": "stream",
          "name": "stdout",
          "text": [
            "RMSE of RealMLP: 3.1390869160739507\n",
            "CPU times: user 1min 24s, sys: 2.33 s, total: 1min 26s\n",
            "Wall time: 1min 39s\n"
          ]
        }
      ],
      "source": [
        "%%time\n",
        "from pytabkit.models.sklearn.sklearn_interfaces import RealMLP_TD_Classifier\n",
        "from sklearn.metrics import root_mean_squared_error\n",
        "\n",
        "model = RealMLP_TD_Classifier()\n",
        "model.fit(X_train, y_train)\n",
        "\n",
        "y_pred = model.predict(X_test)\n",
        "rmse = root_mean_squared_error(y_test, y_pred)\n",
        "print(f\"RMSE of RealMLP: {rmse}\")"
      ]
    },
    {
      "cell_type": "markdown",
      "metadata": {
        "id": "-G8Oblk5Cy1s"
      },
      "source": [
        "## With bagging\n",
        "It is possible to do bagging (ensembling of models on 5-fold cross-validation) simply by passing `n_cv=5` to the constructor. Note that it doesn't take 5x as long because of vectorized training."
      ]
    },
    {
      "cell_type": "code",
      "execution_count": 4,
      "metadata": {
        "id": "i0NpWvjKCy1s",
        "outputId": "89c07496-fd0e-4f46-ea59-3457f8a35371",
        "colab": {
          "base_uri": "https://localhost:8080/"
        }
      },
      "outputs": [
        {
          "output_type": "stream",
          "name": "stdout",
          "text": [
            "RMSE of RealMLP with bagging: 2.9542286077192244\n",
            "CPU times: user 1min 16s, sys: 729 ms, total: 1min 17s\n",
            "Wall time: 1min 19s\n"
          ]
        }
      ],
      "source": [
        "%%time\n",
        "from pytabkit.models.sklearn.sklearn_interfaces import RealMLP_TD_Classifier\n",
        "from sklearn.metrics import root_mean_squared_error\n",
        "\n",
        "model = RealMLP_TD_Classifier(n_cv=5)\n",
        "model.fit(X_train, y_train)\n",
        "\n",
        "y_pred = model.predict(X_test)\n",
        "rmse = root_mean_squared_error(y_test, y_pred)\n",
        "print(f\"RMSE of RealMLP with bagging: {rmse}\")"
      ]
    },
    {
      "cell_type": "markdown",
      "metadata": {
        "id": "KHphiGKBCy1t"
      },
      "source": [
        "## With hyperparameter optimization\n",
        "It is possible to do hyperparameter optimization directly inside a sklearn interface by using the `RealMLP_HPO_Regressor` interface.\n",
        "This is also available for classification, and for other models, for instance `LGBM_HPO_Classifier` or `LGBM_HPO_TPE_Classifier` (to use the Tree-structured Parzen Estimator algorithm)."
      ]
    },
    {
      "cell_type": "code",
      "execution_count": 8,
      "metadata": {
        "id": "7e4wjdYJCy1t",
        "outputId": "a7ed7867-c808-4ed9-dbc2-badea992eae2",
        "colab": {
          "base_uri": "https://localhost:8080/"
        }
      },
      "outputs": [
        {
          "output_type": "stream",
          "name": "stdout",
          "text": [
            "RMSE of RealMLP with 3 steps HPO: 2.435140371322632\n",
            "CPU times: user 3min 39s, sys: 2.12 s, total: 3min 41s\n",
            "Wall time: 3min 45s\n"
          ]
        }
      ],
      "source": [
        "%%time\n",
        "from pytabkit.models.sklearn.sklearn_interfaces import RealMLP_HPO_Regressor\n",
        "\n",
        "n_hyperopt_steps = 3 # small number for demonstration purposes\n",
        "model = RealMLP_HPO_Regressor(n_hyperopt_steps=n_hyperopt_steps)\n",
        "model.fit(X_train, y_train)\n",
        "\n",
        "y_pred = model.predict(X_test)\n",
        "rmse = root_mean_squared_error(y_test, y_pred)\n",
        "print(f\"RMSE of RealMLP with {n_hyperopt_steps} steps HPO: {rmse}\")"
      ]
    },
    {
      "cell_type": "markdown",
      "metadata": {
        "id": "SB0D5MnbCy1t"
      },
      "source": [
        "# Using improved default for tree based models"
      ]
    },
    {
      "cell_type": "markdown",
      "metadata": {
        "id": "OLulH2rGCy1t"
      },
      "source": [
        "`TD` stands for *tuned defaults*, which are the improved default we propose. `D` stands for *defaults*, which are the libraries defaults."
      ]
    },
    {
      "cell_type": "code",
      "execution_count": 6,
      "metadata": {
        "id": "UEZU3kaDCy1t",
        "outputId": "1c5bd06f-caf6-499c-8f84-5496db9d0ce6",
        "colab": {
          "base_uri": "https://localhost:8080/"
        }
      },
      "outputs": [
        {
          "output_type": "stream",
          "name": "stdout",
          "text": [
            "RMSE of CatBoost_TD_Regressor: 4.254329681396484\n",
            "RMSE of CatBoost_D_Regressor: 5.49345064163208\n",
            "RMSE of LGBM_TD_Regressor: 4.418639183044434\n",
            "RMSE of LGBM_D_Regressor: 5.085862159729004\n",
            "RMSE of XGB_TD_Regressor: 4.645600318908691\n",
            "RMSE of XGB_D_Regressor: 5.538084983825684\n",
            "CPU times: user 46 s, sys: 1.22 s, total: 47.2 s\n",
            "Wall time: 30.4 s\n"
          ]
        }
      ],
      "source": [
        "%%time\n",
        "from pytabkit.models.sklearn.sklearn_interfaces import CatBoost_TD_Regressor, CatBoost_D_Regressor, LGBM_TD_Regressor, LGBM_D_Regressor, XGB_TD_Regressor, XGB_D_Regressor\n",
        "\n",
        "for model in [CatBoost_TD_Regressor(), CatBoost_D_Regressor(), LGBM_TD_Regressor(), LGBM_D_Regressor(), XGB_TD_Regressor(), XGB_D_Regressor()]:\n",
        "    model.fit(X_train, y_train)\n",
        "    y_pred = model.predict(X_test)\n",
        "    rmse = root_mean_squared_error(y_test, y_pred)\n",
        "    print(f\"RMSE of {model.__class__.__name__}: {rmse}\")"
      ]
    },
    {
      "cell_type": "markdown",
      "metadata": {
        "id": "tMzbmtJMCy1t"
      },
      "source": [
        "# Ensembling tuned defaults of tree-based methods and RealMLP: a very good baseline"
      ]
    },
    {
      "cell_type": "code",
      "execution_count": 7,
      "metadata": {
        "id": "JZJH1sWfCy1t",
        "outputId": "8d059418-5236-4a84-b55a-6829200bb330",
        "colab": {
          "base_uri": "https://localhost:8080/"
        }
      },
      "outputs": [
        {
          "output_type": "stream",
          "name": "stdout",
          "text": [
            "RMSE of Ensemble_TD_Regressor: 2.7520666122436523\n",
            "CPU times: user 2min 4s, sys: 1.49 s, total: 2min 6s\n",
            "Wall time: 1min 46s\n"
          ]
        }
      ],
      "source": [
        "%%time\n",
        "from pytabkit.models.sklearn.sklearn_interfaces import Ensemble_TD_Regressor\n",
        "\n",
        "model = Ensemble_TD_Regressor()\n",
        "model.fit(X_train, y_train)\n",
        "y_pred = model.predict(X_test)\n",
        "rmse = root_mean_squared_error(y_test, y_pred)\n",
        "print(f\"RMSE of Ensemble_TD_Regressor: {rmse}\")"
      ]
    },
    {
      "cell_type": "code",
      "source": [],
      "metadata": {
        "id": "TBM2bDiVC6J6"
      },
      "execution_count": 7,
      "outputs": []
    }
  ],
  "metadata": {
    "kernelspec": {
      "display_name": "Python 3",
      "name": "python3"
    },
    "language_info": {
      "codemirror_mode": {
        "name": "ipython",
        "version": 3
      },
      "file_extension": ".py",
      "mimetype": "text/x-python",
      "name": "python",
      "nbconvert_exporter": "python",
      "pygments_lexer": "ipython3",
      "version": "3.10.12"
    },
    "colab": {
      "provenance": [],
      "gpuType": "T4"
    },
    "accelerator": "GPU"
  },
  "nbformat": 4,
  "nbformat_minor": 0
}